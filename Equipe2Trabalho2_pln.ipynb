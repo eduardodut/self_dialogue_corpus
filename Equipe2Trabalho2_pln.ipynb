{
  "nbformat": 4,
  "nbformat_minor": 0,
  "metadata": {
    "colab": {
      "name": "Equipe2Trabalho2_pln.ipynb",
      "provenance": [],
      "authorship_tag": "ABX9TyN3JuDpXx4GULVuXnaHZl2y",
      "include_colab_link": true
    },
    "kernelspec": {
      "name": "python3",
      "display_name": "Python 3"
    }
  },
  "cells": [
    {
      "cell_type": "markdown",
      "metadata": {
        "id": "view-in-github",
        "colab_type": "text"
      },
      "source": [
        "<a href=\"https://colab.research.google.com/github/eduardodut/self_dialogue_corpus/blob/master/Equipe2Trabalho2_pln.ipynb\" target=\"_parent\"><img src=\"https://colab.research.google.com/assets/colab-badge.svg\" alt=\"Open In Colab\"/></a>"
      ]
    },
    {
      "cell_type": "markdown",
      "metadata": {
        "id": "uCxdVKyC9Ncd"
      },
      "source": [
        "## Leitura do corpus"
      ]
    },
    {
      "cell_type": "code",
      "metadata": {
        "colab": {
          "base_uri": "https://localhost:8080/"
        },
        "id": "qEafrq039QLj",
        "outputId": "153e90a2-f375-4884-ac2a-92b3ba154d8d"
      },
      "source": [
        "# remove a pasta existente\n",
        "!rm -r /content/self_dialogue_corpus\n",
        "# clona o repositório\n",
        "!git clone https://github.com/eduardodut/self_dialogue_corpus\n",
        "# define a variável do caminho do projeto\n",
        "CAMINHO_PROJETO = '/content/self_dialogue_corpus'"
      ],
      "execution_count": 124,
      "outputs": [
        {
          "output_type": "stream",
          "text": [
            "shell-init: error retrieving current directory: getcwd: cannot access parent directories: No such file or directory\n",
            "rm: cannot remove '/content/self_dialogue_corpus': No such file or directory\n",
            "shell-init: error retrieving current directory: getcwd: cannot access parent directories: No such file or directory\n",
            "fatal: could not create work tree dir 'self_dialogue_corpus': No such file or directory\n"
          ],
          "name": "stdout"
        }
      ]
    },
    {
      "cell_type": "code",
      "metadata": {
        "id": "h-4ZyDbc-ne9"
      },
      "source": [
        "file_lista_assuntos = open('lista_assuntos.txt','r')"
      ],
      "execution_count": 18,
      "outputs": []
    },
    {
      "cell_type": "code",
      "metadata": {
        "colab": {
          "base_uri": "https://localhost:8080/"
        },
        "id": "mMW-Mg1MAP80",
        "outputId": "c51a75cb-9be6-4613-9626-69f275f2850d"
      },
      "source": [
        "import os\n",
        "import pandas as pd\n",
        "%cd $CAMINHO_PROJETO\n",
        "caminho_corpus = CAMINHO_PROJETO+'/corpus'\n",
        "lista_assuntos = os.listdir(caminho_corpus)\n",
        "# print(CAMINHO_PROJETO+'/corpus')\n",
        "# cols = ['Answer.sentence'+str(i) for i in range(1,11)] \n",
        "# print(cols)\n",
        "lista_conversas_pares = []\n",
        "lista_conversas_deslizante = []\n",
        "for assunto in lista_assuntos:\n",
        "  lista_arquivo_csv = os.listdir(caminho_corpus+'/'+assunto)\n",
        "  for arquivo in lista_arquivo_csv:\n",
        "    # li cada csv\n",
        "    df_conversa = pd.read_csv(caminho_corpus+'/'+assunto+'/'+arquivo)\n",
        "    # seleciono apenas as colunas que começam com 'Answer'\n",
        "    df_conversa = df_conversa[[col for col in df_conversa.columns if col.startswith(\"Answer\")]]\n",
        "    # crio uma sequência de colunas ordenadas\n",
        "    cols = ['Answer.sentence'+str(i) for i in range(1,df_conversa.columns.shape[0]+1)]\n",
        "    # subset do dataset com as colunas ordenadas\n",
        "    df_conversa = df_conversa[cols]\n",
        "        \n",
        "    \n",
        "    # iteração em cada linha do csv\n",
        "    for linha in df_conversa.itertuples(index=False):\n",
        "      \n",
        "      sentenca_1_par = []\n",
        "      sentenca_2_par = []\n",
        "      sentenca_1_desliz = []\n",
        "      sentenca_2_desliz = []\n",
        "      \n",
        "      comprimento = len(linha)\n",
        "      indices_par = [(i,i+1) for i in range(0,comprimento,2)]\n",
        "      indices_deslizantes = [(i,i+1) for i in range(0,comprimento-1)]\n",
        "      \n",
        "\n",
        "      for indice in indices_par:\n",
        "        sentenca_1_par.append(linha[indice[0]])\n",
        "        sentenca_2_par.append(linha[indice[1]])\n",
        "\n",
        "      for indice in indices_deslizantes:\n",
        "        sentenca_1_desliz.append(linha[indice[0]])\n",
        "        sentenca_2_desliz.append(linha[indice[1]])\n",
        "\n",
        "\n",
        "\n",
        "      df_conversa_pares = pd.DataFrame({'sentenca_1':sentenca_1_par,\n",
        "                                        'sentenca_2':sentenca_2_par})\n",
        "\n",
        "      df_conversa_pares['assunto'] = assunto\n",
        "      df_conversa_pares['label'] = True\n",
        "      \n",
        "      df_conversa_desliz = pd.DataFrame({'sentenca_1':sentenca_1_desliz,\n",
        "                                        'sentenca_2':sentenca_2_desliz})\n",
        "\n",
        "      df_conversa_desliz['assunto'] = assunto\n",
        "      df_conversa_desliz['label'] = True\n",
        "\n",
        "\n",
        "      lista_conversas_pares.append(df_conversa_alinhada)\n",
        "      lista_conversas_deslizante.append(df_conversa_desliz)    "
      ],
      "execution_count": 99,
      "outputs": [
        {
          "output_type": "stream",
          "text": [
            "/content/self_dialogue_corpus\n"
          ],
          "name": "stdout"
        }
      ]
    },
    {
      "cell_type": "code",
      "metadata": {
        "id": "Sy7hBbIVRp-v"
      },
      "source": [
        "df_conversas_pares = pd.concat(lista_conversas_pares).reset_index(drop=True)\n",
        "df_conversas_deslizante = pd.concat(lista_conversas_deslizante).reset_index(drop=True)"
      ],
      "execution_count": 132,
      "outputs": []
    },
    {
      "cell_type": "code",
      "metadata": {
        "colab": {
          "base_uri": "https://localhost:8080/"
        },
        "id": "CrPlwYvGSJUN",
        "outputId": "751d239f-290f-4f21-e360-d7a6268c9ac2"
      },
      "source": [
        "df_conversas_pares.shape"
      ],
      "execution_count": 136,
      "outputs": [
        {
          "output_type": "execute_result",
          "data": {
            "text/plain": [
              "(242490, 4)"
            ]
          },
          "metadata": {
            "tags": []
          },
          "execution_count": 136
        }
      ]
    },
    {
      "cell_type": "code",
      "metadata": {
        "colab": {
          "base_uri": "https://localhost:8080/"
        },
        "id": "EU7oGXiRVHmq",
        "outputId": "0a3caad9-2f50-400c-fbeb-f7eb5b4633c2"
      },
      "source": [
        "df_conversas_deslizante.shape"
      ],
      "execution_count": 137,
      "outputs": [
        {
          "output_type": "execute_result",
          "data": {
            "text/plain": [
              "(351137, 4)"
            ]
          },
          "metadata": {
            "tags": []
          },
          "execution_count": 137
        }
      ]
    },
    {
      "cell_type": "code",
      "metadata": {
        "id": "IcF79kxuYsE0"
      },
      "source": [
        "# salvar df's\n",
        "# upload pro github"
      ],
      "execution_count": null,
      "outputs": []
    },
    {
      "cell_type": "markdown",
      "metadata": {
        "id": "a73U_I1W8kVF"
      },
      "source": [
        "## Pré processamento\n",
        "\n",
        "entrada: dados brutos (corpus)\n",
        "\n",
        "saída: um arquixo txt com todos os dados processados\n",
        "\n"
      ]
    },
    {
      "cell_type": "code",
      "metadata": {
        "id": "mK34X--YVmzc"
      },
      "source": [
        "# todos os imports\n",
        "\n",
        "def processar_texto(string):\n",
        "  \n",
        "  return string\n",
        "\n",
        "df_conversas_deslizante['sentenca_1'] = df_conversas_deslizante['sentenca_1'].apply(processar_texto)\n",
        "df_conversas_deslizante['sentenca_2'] = df_conversas_deslizante['sentenca_2'].apply(processar_texto)"
      ],
      "execution_count": 103,
      "outputs": []
    },
    {
      "cell_type": "code",
      "metadata": {
        "id": "L7NNl6PVWEGH"
      },
      "source": [
        "def contar_interrogacoes(string):\n",
        "  num_interrogacoes = len([i for i in str(string) if i == '?'])\n",
        "  return num_interrogacoes\n",
        "\n",
        "df_conversas_deslizante['num_interrogacoes_1'] = df_conversas_deslizante['sentenca_1'].apply(contar_interrogacoes)\n",
        "df_conversas_deslizante['num_interrogacoes_2'] = df_conversas_deslizante['sentenca_2'].apply(contar_interrogacoes)"
      ],
      "execution_count": 111,
      "outputs": []
    },
    {
      "cell_type": "code",
      "metadata": {
        "colab": {
          "base_uri": "https://localhost:8080/"
        },
        "id": "Fj2qHFUMX81m",
        "outputId": "88642685-9fcf-4bae-bfbd-965e3b082e79"
      },
      "source": [
        "df_conversas_deslizante.loc[df_conversas_deslizante.num_interrogacoes_1 == 7]['sentenca_1']"
      ],
      "execution_count": 118,
      "outputs": [
        {
          "output_type": "execute_result",
          "data": {
            "text/plain": [
              "7                                What??? On no and????\n",
              "5    If the Rivers trade doesn't happen, who's goin...\n",
              "Name: sentenca_1, dtype: object"
            ]
          },
          "metadata": {
            "tags": []
          },
          "execution_count": 118
        }
      ]
    },
    {
      "cell_type": "code",
      "metadata": {
        "id": "6-L38zSuaKza"
      },
      "source": [
        ""
      ],
      "execution_count": null,
      "outputs": []
    },
    {
      "cell_type": "markdown",
      "metadata": {
        "id": "T4YBBjd2aLT7"
      },
      "source": [
        "## Treinamento das embeddings"
      ]
    },
    {
      "cell_type": "code",
      "metadata": {
        "id": "WY0CS6RuakZs"
      },
      "source": [
        "dict_embeddings_pre_treinadas = {} # baixado\n",
        "dict_embeddings_treinadas_no_corpus = {}\n",
        "\n",
        "dict_embeddings = {0:dict_embeddings_pre_treinadas,\n",
        "                   1:dict_embeddings_treinadas_no_corpus}"
      ],
      "execution_count": null,
      "outputs": []
    },
    {
      "cell_type": "code",
      "metadata": {
        "id": "SAETxqFgaOGI"
      },
      "source": [
        ""
      ],
      "execution_count": null,
      "outputs": []
    },
    {
      "cell_type": "markdown",
      "metadata": {
        "id": "pW_XIAIa8vGb"
      },
      "source": [
        "## Treinamento do modelo\n",
        "\n",
        "entrada: arquivo txt com todos os dados\n",
        "\n",
        "saída: melhor modelo encontrado"
      ]
    },
    {
      "cell_type": "code",
      "metadata": {
        "id": "78X-uB8vZ9bd"
      },
      "source": [
        "# criar função que construa o modelo\n",
        "def create_model(argumentos):\n",
        "  model = []\n",
        "  return model"
      ],
      "execution_count": 125,
      "outputs": []
    },
    {
      "cell_type": "markdown",
      "metadata": {
        "id": "Idw_7q4E85-e"
      },
      "source": [
        "## Avaliação dos modelos gerados\n",
        "\n",
        "entrada: modelos treinados\n",
        "\n",
        "saída: células com o comparativo entre os modelos treinados\n"
      ]
    },
    {
      "cell_type": "code",
      "metadata": {
        "id": "T-shUnrJaAds"
      },
      "source": [
        ""
      ],
      "execution_count": null,
      "outputs": []
    }
  ]
}