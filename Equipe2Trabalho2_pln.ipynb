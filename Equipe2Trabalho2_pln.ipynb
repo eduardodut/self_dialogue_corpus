{
  "nbformat": 4,
  "nbformat_minor": 0,
  "metadata": {
    "colab": {
      "name": "Equipe2Trabalho2_pln.ipynb",
      "provenance": [],
      "authorship_tag": "ABX9TyNorJ4lIT0dHzeadNZu9ORr",
      "include_colab_link": true
    },
    "kernelspec": {
      "name": "python3",
      "display_name": "Python 3"
    }
  },
  "cells": [
    {
      "cell_type": "markdown",
      "metadata": {
        "id": "view-in-github",
        "colab_type": "text"
      },
      "source": [
        "<a href=\"https://colab.research.google.com/github/eduardodut/self_dialogue_corpus/blob/master/Equipe2Trabalho2_pln.ipynb\" target=\"_parent\"><img src=\"https://colab.research.google.com/assets/colab-badge.svg\" alt=\"Open In Colab\"/></a>"
      ]
    },
    {
      "cell_type": "markdown",
      "metadata": {
        "id": "uCxdVKyC9Ncd"
      },
      "source": [
        "## Leitura do corpus"
      ]
    },
    {
      "cell_type": "code",
      "metadata": {
        "colab": {
          "base_uri": "https://localhost:8080/"
        },
        "id": "qEafrq039QLj",
        "outputId": "1b28c349-3237-47cf-b467-95aaa9ef0716"
      },
      "source": [
        "# remove a pasta existente\n",
        "!rm -r /content/self_dialogue_corpus\n",
        "# clona o repositório\n",
        "!git clone https://github.com/eduardodut/self_dialogue_corpus\n",
        "# define a variável do caminho do projeto\n",
        "CAMINHO_PROJETO = '/content/self_dialogue_corpus'"
      ],
      "execution_count": 3,
      "outputs": [
        {
          "output_type": "stream",
          "text": [
            "Cloning into 'self_dialogue_corpus'...\n",
            "remote: Enumerating objects: 210, done.\u001b[K\n",
            "remote: Total 210 (delta 0), reused 0 (delta 0), pack-reused 210\u001b[K\n",
            "Receiving objects: 100% (210/210), 9.31 MiB | 18.85 MiB/s, done.\n",
            "Resolving deltas: 100% (76/76), done.\n"
          ],
          "name": "stdout"
        }
      ]
    },
    {
      "cell_type": "code",
      "metadata": {
        "id": "vm54H9Aa9bGG"
      },
      "source": [
        "%cd $CAMINHO_PROJETO\n",
        "!rm -r dialogues\n",
        "!ls -1 corpus > lista_assuntos.txt\n",
        "file_lista_assuntos = open('lista_assuntos.txt','r')\n",
        "for assunto in file_lista_assuntos:\n",
        "  !python get_data.py --inDir corpus/$assunto --outDir dialogues/$assunto"
      ],
      "execution_count": null,
      "outputs": []
    },
    {
      "cell_type": "code",
      "metadata": {
        "colab": {
          "base_uri": "https://localhost:8080/"
        },
        "id": "mY8oMmne-Z1-",
        "outputId": "73e6a200-2e87-4eae-b3ec-dd50c8ad9ccd"
      },
      "source": [
        "!ls -la /content/self_dialogue_corpus/dialogues | wc -l"
      ],
      "execution_count": 11,
      "outputs": [
        {
          "output_type": "stream",
          "text": [
            "24231\n"
          ],
          "name": "stdout"
        }
      ]
    },
    {
      "cell_type": "code",
      "metadata": {
        "id": "h-4ZyDbc-ne9"
      },
      "source": [
        "file_lista_assuntos = open('lista_assuntos.txt','r')"
      ],
      "execution_count": 18,
      "outputs": []
    },
    {
      "cell_type": "code",
      "metadata": {
        "colab": {
          "base_uri": "https://localhost:8080/"
        },
        "id": "mMW-Mg1MAP80",
        "outputId": "c51a75cb-9be6-4613-9626-69f275f2850d"
      },
      "source": [
        "import os\n",
        "import pandas as pd\n",
        "PARES = True\n",
        "%cd $CAMINHO_PROJETO\n",
        "caminho_corpus = CAMINHO_PROJETO+'/corpus'\n",
        "lista_assuntos = os.listdir(caminho_corpus)\n",
        "# print(CAMINHO_PROJETO+'/corpus')\n",
        "# cols = ['Answer.sentence'+str(i) for i in range(1,11)] \n",
        "# print(cols)\n",
        "lista_conversas_pares = []\n",
        "lista_conversas_deslizante = []\n",
        "for assunto in lista_assuntos:\n",
        "  lista_arquivo_csv = os.listdir(caminho_corpus+'/'+assunto)\n",
        "  for arquivo in lista_arquivo_csv:\n",
        "    # li cada csv\n",
        "    df_conversa = pd.read_csv(caminho_corpus+'/'+assunto+'/'+arquivo)\n",
        "    # seleciono apenas as colunas que começam com 'Answer'\n",
        "    df_conversa = df_conversa[[col for col in df_conversa.columns if col.startswith(\"Answer\")]]\n",
        "    # crio uma sequência de colunas ordenadas\n",
        "    cols = ['Answer.sentence'+str(i) for i in range(1,df_conversa.columns.shape[0]+1)]\n",
        "    # subset do dataset com as colunas ordenadas\n",
        "    df_conversa = df_conversa[cols]\n",
        "     \n",
        "    \n",
        "    \n",
        "    # df_conversa['assunto'] = assunto\n",
        "    \n",
        "    # iteração em cada linha do csv\n",
        "    for linha in df_conversa.itertuples(index=False):\n",
        "      # linha = (1,2,3,4,5,6,7,8,9,10)\n",
        "      \n",
        "      sentenca_1_par = []\n",
        "      sentenca_2_par = []\n",
        "      sentenca_1_desliz = []\n",
        "      sentenca_2_desliz = []\n",
        "      \n",
        "      comprimento = len(linha)\n",
        "      indices_par = [(i,i+1) for i in range(0,comprimento,2)]\n",
        "      indices_deslizantes = [(i,i+1) for i in range(0,comprimento-1)]\n",
        "      \n",
        "\n",
        "      for indice in indices_par:\n",
        "        sentenca_1_par.append(linha[indice[0]])\n",
        "        sentenca_2_par.append(linha[indice[1]])\n",
        "\n",
        "      for indice in indices_deslizantes:\n",
        "        sentenca_1_desliz.append(linha[indice[0]])\n",
        "        sentenca_2_desliz.append(linha[indice[1]])\n",
        "\n",
        "\n",
        "\n",
        "      df_conversa_pares = pd.DataFrame({'sentenca_1':sentenca_1_par,\n",
        "                                        'sentenca_2':sentenca_2_par})\n",
        "\n",
        "      df_conversa_pares['assunto'] = assunto\n",
        "      df_conversa_pares['label'] = True\n",
        "      \n",
        "      df_conversa_desliz = pd.DataFrame({'sentenca_1':sentenca_1_desliz,\n",
        "                                        'sentenca_2':sentenca_2_desliz})\n",
        "\n",
        "      df_conversa_desliz['assunto'] = assunto\n",
        "      df_conversa_desliz['label'] = True\n",
        "\n",
        "\n",
        "      lista_conversas_pares.append(df_conversa_alinhada)\n",
        "      lista_conversas_deslizante.append(df_conversa_desliz)\n",
        "   \n",
        "    "
      ],
      "execution_count": 99,
      "outputs": [
        {
          "output_type": "stream",
          "text": [
            "/content/self_dialogue_corpus\n"
          ],
          "name": "stdout"
        }
      ]
    },
    {
      "cell_type": "code",
      "metadata": {
        "id": "Sy7hBbIVRp-v"
      },
      "source": [
        "df_conversas_pares = pd.concat(lista_conversas_pares).reset_index()\n",
        "df_conversas_deslizante = pd.concat(lista_conversas_deslizante).reset_index()"
      ],
      "execution_count": 100,
      "outputs": []
    },
    {
      "cell_type": "code",
      "metadata": {
        "colab": {
          "base_uri": "https://localhost:8080/"
        },
        "id": "CrPlwYvGSJUN",
        "outputId": "27b2174d-2564-4d45-e02c-9f7d3daa0e8d"
      },
      "source": [
        "df_conversas_pares.shape"
      ],
      "execution_count": 101,
      "outputs": [
        {
          "output_type": "execute_result",
          "data": {
            "text/plain": [
              "(242490, 4)"
            ]
          },
          "metadata": {
            "tags": []
          },
          "execution_count": 101
        }
      ]
    },
    {
      "cell_type": "code",
      "metadata": {
        "colab": {
          "base_uri": "https://localhost:8080/"
        },
        "id": "EU7oGXiRVHmq",
        "outputId": "7a60747e-17ec-4854-9968-b0dd69c7b80c"
      },
      "source": [
        "df_conversas_deslizante.shape"
      ],
      "execution_count": 102,
      "outputs": [
        {
          "output_type": "execute_result",
          "data": {
            "text/plain": [
              "(351137, 4)"
            ]
          },
          "metadata": {
            "tags": []
          },
          "execution_count": 102
        }
      ]
    },
    {
      "cell_type": "code",
      "metadata": {
        "id": "IcF79kxuYsE0"
      },
      "source": [
        "# salvar df's\n",
        "# upload pro github"
      ],
      "execution_count": null,
      "outputs": []
    },
    {
      "cell_type": "markdown",
      "metadata": {
        "id": "a73U_I1W8kVF"
      },
      "source": [
        "## Pré processamento\n",
        "\n",
        "entrada: dados brutos (corpus)\n",
        "\n",
        "saída: um arquixo txt com todos os dados processados\n",
        "\n"
      ]
    },
    {
      "cell_type": "code",
      "metadata": {
        "id": "mK34X--YVmzc"
      },
      "source": [
        "# todos os imports\n",
        "\n",
        "def processar_texto(string):\n",
        "  \n",
        "  return string\n",
        "\n",
        "df_conversas_deslizante['sentenca_1'] = df_conversas_deslizante['sentenca_1'].apply(processar_texto)\n",
        "df_conversas_deslizante['sentenca_2'] = df_conversas_deslizante['sentenca_2'].apply(processar_texto)"
      ],
      "execution_count": 103,
      "outputs": []
    },
    {
      "cell_type": "code",
      "metadata": {
        "id": "L7NNl6PVWEGH"
      },
      "source": [
        "def contar_interrogacoes(string):\n",
        "  num_interrogacoes = len([i for i in str(string) if i == '?'])\n",
        "  return num_interrogacoes\n",
        "\n",
        "df_conversas_deslizante['num_interrogacoes_1'] = df_conversas_deslizante['sentenca_1'].apply(contar_interrogacoes)\n",
        "df_conversas_deslizante['num_interrogacoes_2'] = df_conversas_deslizante['sentenca_2'].apply(contar_interrogacoes)"
      ],
      "execution_count": 111,
      "outputs": []
    },
    {
      "cell_type": "code",
      "metadata": {
        "colab": {
          "base_uri": "https://localhost:8080/"
        },
        "id": "Fj2qHFUMX81m",
        "outputId": "88642685-9fcf-4bae-bfbd-965e3b082e79"
      },
      "source": [
        "df_conversas_deslizante.loc[df_conversas_deslizante.num_interrogacoes_1 == 7]['sentenca_1']"
      ],
      "execution_count": 118,
      "outputs": [
        {
          "output_type": "execute_result",
          "data": {
            "text/plain": [
              "7                                What??? On no and????\n",
              "5    If the Rivers trade doesn't happen, who's goin...\n",
              "Name: sentenca_1, dtype: object"
            ]
          },
          "metadata": {
            "tags": []
          },
          "execution_count": 118
        }
      ]
    },
    {
      "cell_type": "markdown",
      "metadata": {
        "id": "pW_XIAIa8vGb"
      },
      "source": [
        "## Treinamento do modelo\n",
        "\n",
        "entrada: arquivo txt com todos os dados\n",
        "\n",
        "saída: melhor modelo encontrado"
      ]
    },
    {
      "cell_type": "markdown",
      "metadata": {
        "id": "Idw_7q4E85-e"
      },
      "source": [
        "## Avaliação dos modelos gerados\n",
        "\n",
        "entrada: modelos treinados\n",
        "\n",
        "saída: células com o comparativo entre os modelos treinados\n"
      ]
    }
  ]
}